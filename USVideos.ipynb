{
 "cells": [
  {
   "cell_type": "code",
   "execution_count": 1,
   "metadata": {},
   "outputs": [
    {
     "data": {
      "text/html": [
       "<div>\n",
       "<style scoped>\n",
       "    .dataframe tbody tr th:only-of-type {\n",
       "        vertical-align: middle;\n",
       "    }\n",
       "\n",
       "    .dataframe tbody tr th {\n",
       "        vertical-align: top;\n",
       "    }\n",
       "\n",
       "    .dataframe thead th {\n",
       "        text-align: right;\n",
       "    }\n",
       "</style>\n",
       "<table border=\"1\" class=\"dataframe\">\n",
       "  <thead>\n",
       "    <tr style=\"text-align: right;\">\n",
       "      <th></th>\n",
       "      <th>video_id</th>\n",
       "      <th>title</th>\n",
       "      <th>channel_title</th>\n",
       "      <th>category_id</th>\n",
       "      <th>tags</th>\n",
       "      <th>views</th>\n",
       "      <th>likes</th>\n",
       "      <th>dislikes</th>\n",
       "      <th>comment_total</th>\n",
       "      <th>thumbnail_link</th>\n",
       "      <th>date</th>\n",
       "    </tr>\n",
       "  </thead>\n",
       "  <tbody>\n",
       "    <tr>\n",
       "      <th>0</th>\n",
       "      <td>XpVt6Z1Gjjo</td>\n",
       "      <td>1 YEAR OF VLOGGING -- HOW LOGAN PAUL CHANGED Y...</td>\n",
       "      <td>Logan Paul Vlogs</td>\n",
       "      <td>24</td>\n",
       "      <td>logan paul vlog|logan paul|logan|paul|olympics...</td>\n",
       "      <td>4394029.0</td>\n",
       "      <td>320053.0</td>\n",
       "      <td>5931.0</td>\n",
       "      <td>46245.0</td>\n",
       "      <td>https://i.ytimg.com/vi/XpVt6Z1Gjjo/default.jpg</td>\n",
       "      <td>13.09</td>\n",
       "    </tr>\n",
       "    <tr>\n",
       "      <th>1</th>\n",
       "      <td>K4wEI5zhHB0</td>\n",
       "      <td>iPhone X — Introducing iPhone X — Apple</td>\n",
       "      <td>Apple</td>\n",
       "      <td>28</td>\n",
       "      <td>Apple|iPhone 10|iPhone Ten|iPhone|Portrait Lig...</td>\n",
       "      <td>7860119.0</td>\n",
       "      <td>185853.0</td>\n",
       "      <td>26679.0</td>\n",
       "      <td>NaN</td>\n",
       "      <td>https://i.ytimg.com/vi/K4wEI5zhHB0/default.jpg</td>\n",
       "      <td>13.09</td>\n",
       "    </tr>\n",
       "    <tr>\n",
       "      <th>2</th>\n",
       "      <td>cLdxuaxaQwc</td>\n",
       "      <td>My Response</td>\n",
       "      <td>PewDiePie</td>\n",
       "      <td>22</td>\n",
       "      <td>NaN</td>\n",
       "      <td>5845909.0</td>\n",
       "      <td>576597.0</td>\n",
       "      <td>39774.0</td>\n",
       "      <td>170708.0</td>\n",
       "      <td>https://i.ytimg.com/vi/cLdxuaxaQwc/default.jpg</td>\n",
       "      <td>13.09</td>\n",
       "    </tr>\n",
       "    <tr>\n",
       "      <th>3</th>\n",
       "      <td>WYYvHb03Eog</td>\n",
       "      <td>Apple iPhone X first look</td>\n",
       "      <td>The Verge</td>\n",
       "      <td>28</td>\n",
       "      <td>apple iphone x hands on|Apple iPhone X|iPhone ...</td>\n",
       "      <td>2642103.0</td>\n",
       "      <td>24975.0</td>\n",
       "      <td>4542.0</td>\n",
       "      <td>12829.0</td>\n",
       "      <td>https://i.ytimg.com/vi/WYYvHb03Eog/default.jpg</td>\n",
       "      <td>13.09</td>\n",
       "    </tr>\n",
       "    <tr>\n",
       "      <th>4</th>\n",
       "      <td>sjlHnJvXdQs</td>\n",
       "      <td>iPhone X (parody)</td>\n",
       "      <td>jacksfilms</td>\n",
       "      <td>23</td>\n",
       "      <td>jacksfilms|parody|parodies|iphone|iphone x|iph...</td>\n",
       "      <td>1168130.0</td>\n",
       "      <td>96666.0</td>\n",
       "      <td>568.0</td>\n",
       "      <td>6666.0</td>\n",
       "      <td>https://i.ytimg.com/vi/sjlHnJvXdQs/default.jpg</td>\n",
       "      <td>13.09</td>\n",
       "    </tr>\n",
       "    <tr>\n",
       "      <th>...</th>\n",
       "      <td>...</td>\n",
       "      <td>...</td>\n",
       "      <td>...</td>\n",
       "      <td>...</td>\n",
       "      <td>...</td>\n",
       "      <td>...</td>\n",
       "      <td>...</td>\n",
       "      <td>...</td>\n",
       "      <td>...</td>\n",
       "      <td>...</td>\n",
       "      <td>...</td>\n",
       "    </tr>\n",
       "    <tr>\n",
       "      <th>7993</th>\n",
       "      <td>xlu6i6lT_vk</td>\n",
       "      <td>How Do MASSIVE Sinkholes Form?</td>\n",
       "      <td>Life Noggin</td>\n",
       "      <td>27</td>\n",
       "      <td>sinkhole|how do sinkholes form|sinkhole in wat...</td>\n",
       "      <td>440393.0</td>\n",
       "      <td>14362.0</td>\n",
       "      <td>390.0</td>\n",
       "      <td>1575.0</td>\n",
       "      <td>https://i.ytimg.com/vi/xlu6i6lT_vk/default.jpg</td>\n",
       "      <td>22.1</td>\n",
       "    </tr>\n",
       "    <tr>\n",
       "      <th>7994</th>\n",
       "      <td>qRoVlH1OcI4</td>\n",
       "      <td>Trump slams Clinton for defending NFL anthem p...</td>\n",
       "      <td>Business Insider</td>\n",
       "      <td>25</td>\n",
       "      <td>Business Insider|Donald Trump|Hillary Clinton|...</td>\n",
       "      <td>55762.0</td>\n",
       "      <td>1265.0</td>\n",
       "      <td>760.0</td>\n",
       "      <td>1873.0</td>\n",
       "      <td>https://i.ytimg.com/vi/qRoVlH1OcI4/default.jpg</td>\n",
       "      <td>22.1</td>\n",
       "    </tr>\n",
       "    <tr>\n",
       "      <th>7995</th>\n",
       "      <td>EoejGgUNmVU</td>\n",
       "      <td>LP - Lost On You (A Night at The McKittrick Ho...</td>\n",
       "      <td>LP</td>\n",
       "      <td>10</td>\n",
       "      <td>LP|Death Valley|Other People|Lost On You|The M...</td>\n",
       "      <td>142908.0</td>\n",
       "      <td>7088.0</td>\n",
       "      <td>68.0</td>\n",
       "      <td>437.0</td>\n",
       "      <td>https://i.ytimg.com/vi/EoejGgUNmVU/default.jpg</td>\n",
       "      <td>22.1</td>\n",
       "    </tr>\n",
       "    <tr>\n",
       "      <th>7996</th>\n",
       "      <td>MT1CMTI0EVw</td>\n",
       "      <td>Tré Melvin @ #YouTubeBlack FanFest Washington ...</td>\n",
       "      <td>YouTube FanFest</td>\n",
       "      <td>24</td>\n",
       "      <td>YouTube FanFest|#YTFF|Washington DC|USA|YTFF|#...</td>\n",
       "      <td>24532.0</td>\n",
       "      <td>2148.0</td>\n",
       "      <td>77.0</td>\n",
       "      <td>NaN</td>\n",
       "      <td>https://i.ytimg.com/vi/MT1CMTI0EVw/default.jpg</td>\n",
       "      <td>22.1</td>\n",
       "    </tr>\n",
       "    <tr>\n",
       "      <th>7997</th>\n",
       "      <td>AFxLA3RGjnc</td>\n",
       "      <td>First cosmic event seen in gravitational waves...</td>\n",
       "      <td>National Science Foundation</td>\n",
       "      <td>28</td>\n",
       "      <td>LIGO|Virgo|collaboration|space|science|nationa...</td>\n",
       "      <td>144039.0</td>\n",
       "      <td>1574.0</td>\n",
       "      <td>59.0</td>\n",
       "      <td>NaN</td>\n",
       "      <td>https://i.ytimg.com/vi/AFxLA3RGjnc/default.jpg</td>\n",
       "      <td>22.1</td>\n",
       "    </tr>\n",
       "  </tbody>\n",
       "</table>\n",
       "<p>7998 rows × 11 columns</p>\n",
       "</div>"
      ],
      "text/plain": [
       "         video_id                                              title  \\\n",
       "0     XpVt6Z1Gjjo  1 YEAR OF VLOGGING -- HOW LOGAN PAUL CHANGED Y...   \n",
       "1     K4wEI5zhHB0            iPhone X — Introducing iPhone X — Apple   \n",
       "2     cLdxuaxaQwc                                        My Response   \n",
       "3     WYYvHb03Eog                          Apple iPhone X first look   \n",
       "4     sjlHnJvXdQs                                  iPhone X (parody)   \n",
       "...           ...                                                ...   \n",
       "7993  xlu6i6lT_vk                     How Do MASSIVE Sinkholes Form?   \n",
       "7994  qRoVlH1OcI4  Trump slams Clinton for defending NFL anthem p...   \n",
       "7995  EoejGgUNmVU  LP - Lost On You (A Night at The McKittrick Ho...   \n",
       "7996  MT1CMTI0EVw  Tré Melvin @ #YouTubeBlack FanFest Washington ...   \n",
       "7997  AFxLA3RGjnc  First cosmic event seen in gravitational waves...   \n",
       "\n",
       "                    channel_title  category_id  \\\n",
       "0                Logan Paul Vlogs           24   \n",
       "1                           Apple           28   \n",
       "2                       PewDiePie           22   \n",
       "3                       The Verge           28   \n",
       "4                      jacksfilms           23   \n",
       "...                           ...          ...   \n",
       "7993                  Life Noggin           27   \n",
       "7994             Business Insider           25   \n",
       "7995                           LP           10   \n",
       "7996              YouTube FanFest           24   \n",
       "7997  National Science Foundation           28   \n",
       "\n",
       "                                                   tags      views     likes  \\\n",
       "0     logan paul vlog|logan paul|logan|paul|olympics...  4394029.0  320053.0   \n",
       "1     Apple|iPhone 10|iPhone Ten|iPhone|Portrait Lig...  7860119.0  185853.0   \n",
       "2                                                   NaN  5845909.0  576597.0   \n",
       "3     apple iphone x hands on|Apple iPhone X|iPhone ...  2642103.0   24975.0   \n",
       "4     jacksfilms|parody|parodies|iphone|iphone x|iph...  1168130.0   96666.0   \n",
       "...                                                 ...        ...       ...   \n",
       "7993  sinkhole|how do sinkholes form|sinkhole in wat...   440393.0   14362.0   \n",
       "7994  Business Insider|Donald Trump|Hillary Clinton|...    55762.0    1265.0   \n",
       "7995  LP|Death Valley|Other People|Lost On You|The M...   142908.0    7088.0   \n",
       "7996  YouTube FanFest|#YTFF|Washington DC|USA|YTFF|#...    24532.0    2148.0   \n",
       "7997  LIGO|Virgo|collaboration|space|science|nationa...   144039.0    1574.0   \n",
       "\n",
       "      dislikes  comment_total                                  thumbnail_link  \\\n",
       "0       5931.0        46245.0  https://i.ytimg.com/vi/XpVt6Z1Gjjo/default.jpg   \n",
       "1      26679.0            NaN  https://i.ytimg.com/vi/K4wEI5zhHB0/default.jpg   \n",
       "2      39774.0       170708.0  https://i.ytimg.com/vi/cLdxuaxaQwc/default.jpg   \n",
       "3       4542.0        12829.0  https://i.ytimg.com/vi/WYYvHb03Eog/default.jpg   \n",
       "4        568.0         6666.0  https://i.ytimg.com/vi/sjlHnJvXdQs/default.jpg   \n",
       "...        ...            ...                                             ...   \n",
       "7993     390.0         1575.0  https://i.ytimg.com/vi/xlu6i6lT_vk/default.jpg   \n",
       "7994     760.0         1873.0  https://i.ytimg.com/vi/qRoVlH1OcI4/default.jpg   \n",
       "7995      68.0          437.0  https://i.ytimg.com/vi/EoejGgUNmVU/default.jpg   \n",
       "7996      77.0            NaN  https://i.ytimg.com/vi/MT1CMTI0EVw/default.jpg   \n",
       "7997      59.0            NaN  https://i.ytimg.com/vi/AFxLA3RGjnc/default.jpg   \n",
       "\n",
       "       date  \n",
       "0     13.09  \n",
       "1     13.09  \n",
       "2     13.09  \n",
       "3     13.09  \n",
       "4     13.09  \n",
       "...     ...  \n",
       "7993   22.1  \n",
       "7994   22.1  \n",
       "7995   22.1  \n",
       "7996   22.1  \n",
       "7997   22.1  \n",
       "\n",
       "[7998 rows x 11 columns]"
      ]
     },
     "execution_count": 1,
     "metadata": {},
     "output_type": "execute_result"
    }
   ],
   "source": [
    "import pandas as pd\n",
    "import numpy as np\n",
    "data=pd.read_csv(r'C:\\Users\\navya\\OneDrive\\Desktop\\Class Files\\SDS\\Mini Project\\USvideos.csv')\n",
    "data"
   ]
  },
  {
   "cell_type": "code",
   "execution_count": 2,
   "metadata": {},
   "outputs": [
    {
     "data": {
      "text/plain": [
       "video_id          102\n",
       "title               0\n",
       "channel_title       0\n",
       "category_id         0\n",
       "tags              491\n",
       "views              10\n",
       "likes              85\n",
       "dislikes          213\n",
       "comment_total     253\n",
       "thumbnail_link      0\n",
       "date                0\n",
       "dtype: int64"
      ]
     },
     "execution_count": 2,
     "metadata": {},
     "output_type": "execute_result"
    }
   ],
   "source": [
    "data.isna().sum()"
   ]
  },
  {
   "cell_type": "code",
   "execution_count": 3,
   "metadata": {},
   "outputs": [
    {
     "data": {
      "text/html": [
       "<div>\n",
       "<style scoped>\n",
       "    .dataframe tbody tr th:only-of-type {\n",
       "        vertical-align: middle;\n",
       "    }\n",
       "\n",
       "    .dataframe tbody tr th {\n",
       "        vertical-align: top;\n",
       "    }\n",
       "\n",
       "    .dataframe thead th {\n",
       "        text-align: right;\n",
       "    }\n",
       "</style>\n",
       "<table border=\"1\" class=\"dataframe\">\n",
       "  <thead>\n",
       "    <tr style=\"text-align: right;\">\n",
       "      <th></th>\n",
       "      <th>video_id</th>\n",
       "      <th>title</th>\n",
       "      <th>channel_title</th>\n",
       "      <th>category_id</th>\n",
       "      <th>tags</th>\n",
       "      <th>views</th>\n",
       "      <th>likes</th>\n",
       "      <th>dislikes</th>\n",
       "      <th>comment_total</th>\n",
       "      <th>thumbnail_link</th>\n",
       "      <th>date</th>\n",
       "    </tr>\n",
       "  </thead>\n",
       "  <tbody>\n",
       "    <tr>\n",
       "      <th>0</th>\n",
       "      <td>XpVt6Z1Gjjo</td>\n",
       "      <td>1 YEAR OF VLOGGING -- HOW LOGAN PAUL CHANGED Y...</td>\n",
       "      <td>Logan Paul Vlogs</td>\n",
       "      <td>24</td>\n",
       "      <td>logan paul vlog|logan paul|logan|paul|olympics...</td>\n",
       "      <td>4394029.0</td>\n",
       "      <td>320053.0</td>\n",
       "      <td>5931.0</td>\n",
       "      <td>46245.000000</td>\n",
       "      <td>https://i.ytimg.com/vi/XpVt6Z1Gjjo/default.jpg</td>\n",
       "      <td>13.09</td>\n",
       "    </tr>\n",
       "    <tr>\n",
       "      <th>1</th>\n",
       "      <td>K4wEI5zhHB0</td>\n",
       "      <td>iPhone X — Introducing iPhone X — Apple</td>\n",
       "      <td>Apple</td>\n",
       "      <td>28</td>\n",
       "      <td>Apple|iPhone 10|iPhone Ten|iPhone|Portrait Lig...</td>\n",
       "      <td>7860119.0</td>\n",
       "      <td>185853.0</td>\n",
       "      <td>26679.0</td>\n",
       "      <td>4799.096002</td>\n",
       "      <td>https://i.ytimg.com/vi/K4wEI5zhHB0/default.jpg</td>\n",
       "      <td>13.09</td>\n",
       "    </tr>\n",
       "    <tr>\n",
       "      <th>2</th>\n",
       "      <td>WYYvHb03Eog</td>\n",
       "      <td>Apple iPhone X first look</td>\n",
       "      <td>The Verge</td>\n",
       "      <td>28</td>\n",
       "      <td>apple iphone x hands on|Apple iPhone X|iPhone ...</td>\n",
       "      <td>2642103.0</td>\n",
       "      <td>24975.0</td>\n",
       "      <td>4542.0</td>\n",
       "      <td>12829.000000</td>\n",
       "      <td>https://i.ytimg.com/vi/WYYvHb03Eog/default.jpg</td>\n",
       "      <td>13.09</td>\n",
       "    </tr>\n",
       "    <tr>\n",
       "      <th>3</th>\n",
       "      <td>sjlHnJvXdQs</td>\n",
       "      <td>iPhone X (parody)</td>\n",
       "      <td>jacksfilms</td>\n",
       "      <td>23</td>\n",
       "      <td>jacksfilms|parody|parodies|iphone|iphone x|iph...</td>\n",
       "      <td>1168130.0</td>\n",
       "      <td>96666.0</td>\n",
       "      <td>568.0</td>\n",
       "      <td>6666.000000</td>\n",
       "      <td>https://i.ytimg.com/vi/sjlHnJvXdQs/default.jpg</td>\n",
       "      <td>13.09</td>\n",
       "    </tr>\n",
       "    <tr>\n",
       "      <th>4</th>\n",
       "      <td>cMKX2tE5Luk</td>\n",
       "      <td>The Disaster Artist | Official Trailer HD | A24</td>\n",
       "      <td>A24</td>\n",
       "      <td>1</td>\n",
       "      <td>a24|a24 films|a24 trailers|independent films|t...</td>\n",
       "      <td>1311445.0</td>\n",
       "      <td>34507.0</td>\n",
       "      <td>544.0</td>\n",
       "      <td>3040.000000</td>\n",
       "      <td>https://i.ytimg.com/vi/cMKX2tE5Luk/default.jpg</td>\n",
       "      <td>13.09</td>\n",
       "    </tr>\n",
       "    <tr>\n",
       "      <th>...</th>\n",
       "      <td>...</td>\n",
       "      <td>...</td>\n",
       "      <td>...</td>\n",
       "      <td>...</td>\n",
       "      <td>...</td>\n",
       "      <td>...</td>\n",
       "      <td>...</td>\n",
       "      <td>...</td>\n",
       "      <td>...</td>\n",
       "      <td>...</td>\n",
       "      <td>...</td>\n",
       "    </tr>\n",
       "    <tr>\n",
       "      <th>7400</th>\n",
       "      <td>xlu6i6lT_vk</td>\n",
       "      <td>How Do MASSIVE Sinkholes Form?</td>\n",
       "      <td>Life Noggin</td>\n",
       "      <td>27</td>\n",
       "      <td>sinkhole|how do sinkholes form|sinkhole in wat...</td>\n",
       "      <td>440393.0</td>\n",
       "      <td>14362.0</td>\n",
       "      <td>390.0</td>\n",
       "      <td>1575.000000</td>\n",
       "      <td>https://i.ytimg.com/vi/xlu6i6lT_vk/default.jpg</td>\n",
       "      <td>22.1</td>\n",
       "    </tr>\n",
       "    <tr>\n",
       "      <th>7401</th>\n",
       "      <td>qRoVlH1OcI4</td>\n",
       "      <td>Trump slams Clinton for defending NFL anthem p...</td>\n",
       "      <td>Business Insider</td>\n",
       "      <td>25</td>\n",
       "      <td>Business Insider|Donald Trump|Hillary Clinton|...</td>\n",
       "      <td>55762.0</td>\n",
       "      <td>1265.0</td>\n",
       "      <td>760.0</td>\n",
       "      <td>1873.000000</td>\n",
       "      <td>https://i.ytimg.com/vi/qRoVlH1OcI4/default.jpg</td>\n",
       "      <td>22.1</td>\n",
       "    </tr>\n",
       "    <tr>\n",
       "      <th>7402</th>\n",
       "      <td>EoejGgUNmVU</td>\n",
       "      <td>LP - Lost On You (A Night at The McKittrick Ho...</td>\n",
       "      <td>LP</td>\n",
       "      <td>10</td>\n",
       "      <td>LP|Death Valley|Other People|Lost On You|The M...</td>\n",
       "      <td>142908.0</td>\n",
       "      <td>7088.0</td>\n",
       "      <td>68.0</td>\n",
       "      <td>437.000000</td>\n",
       "      <td>https://i.ytimg.com/vi/EoejGgUNmVU/default.jpg</td>\n",
       "      <td>22.1</td>\n",
       "    </tr>\n",
       "    <tr>\n",
       "      <th>7403</th>\n",
       "      <td>MT1CMTI0EVw</td>\n",
       "      <td>Tré Melvin @ #YouTubeBlack FanFest Washington ...</td>\n",
       "      <td>YouTube FanFest</td>\n",
       "      <td>24</td>\n",
       "      <td>YouTube FanFest|#YTFF|Washington DC|USA|YTFF|#...</td>\n",
       "      <td>24532.0</td>\n",
       "      <td>2148.0</td>\n",
       "      <td>77.0</td>\n",
       "      <td>4799.096002</td>\n",
       "      <td>https://i.ytimg.com/vi/MT1CMTI0EVw/default.jpg</td>\n",
       "      <td>22.1</td>\n",
       "    </tr>\n",
       "    <tr>\n",
       "      <th>7404</th>\n",
       "      <td>AFxLA3RGjnc</td>\n",
       "      <td>First cosmic event seen in gravitational waves...</td>\n",
       "      <td>National Science Foundation</td>\n",
       "      <td>28</td>\n",
       "      <td>LIGO|Virgo|collaboration|space|science|nationa...</td>\n",
       "      <td>144039.0</td>\n",
       "      <td>1574.0</td>\n",
       "      <td>59.0</td>\n",
       "      <td>4799.096002</td>\n",
       "      <td>https://i.ytimg.com/vi/AFxLA3RGjnc/default.jpg</td>\n",
       "      <td>22.1</td>\n",
       "    </tr>\n",
       "  </tbody>\n",
       "</table>\n",
       "<p>7405 rows × 11 columns</p>\n",
       "</div>"
      ],
      "text/plain": [
       "         video_id                                              title  \\\n",
       "0     XpVt6Z1Gjjo  1 YEAR OF VLOGGING -- HOW LOGAN PAUL CHANGED Y...   \n",
       "1     K4wEI5zhHB0            iPhone X — Introducing iPhone X — Apple   \n",
       "2     WYYvHb03Eog                          Apple iPhone X first look   \n",
       "3     sjlHnJvXdQs                                  iPhone X (parody)   \n",
       "4     cMKX2tE5Luk    The Disaster Artist | Official Trailer HD | A24   \n",
       "...           ...                                                ...   \n",
       "7400  xlu6i6lT_vk                     How Do MASSIVE Sinkholes Form?   \n",
       "7401  qRoVlH1OcI4  Trump slams Clinton for defending NFL anthem p...   \n",
       "7402  EoejGgUNmVU  LP - Lost On You (A Night at The McKittrick Ho...   \n",
       "7403  MT1CMTI0EVw  Tré Melvin @ #YouTubeBlack FanFest Washington ...   \n",
       "7404  AFxLA3RGjnc  First cosmic event seen in gravitational waves...   \n",
       "\n",
       "                    channel_title  category_id  \\\n",
       "0                Logan Paul Vlogs           24   \n",
       "1                           Apple           28   \n",
       "2                       The Verge           28   \n",
       "3                      jacksfilms           23   \n",
       "4                             A24            1   \n",
       "...                           ...          ...   \n",
       "7400                  Life Noggin           27   \n",
       "7401             Business Insider           25   \n",
       "7402                           LP           10   \n",
       "7403              YouTube FanFest           24   \n",
       "7404  National Science Foundation           28   \n",
       "\n",
       "                                                   tags      views     likes  \\\n",
       "0     logan paul vlog|logan paul|logan|paul|olympics...  4394029.0  320053.0   \n",
       "1     Apple|iPhone 10|iPhone Ten|iPhone|Portrait Lig...  7860119.0  185853.0   \n",
       "2     apple iphone x hands on|Apple iPhone X|iPhone ...  2642103.0   24975.0   \n",
       "3     jacksfilms|parody|parodies|iphone|iphone x|iph...  1168130.0   96666.0   \n",
       "4     a24|a24 films|a24 trailers|independent films|t...  1311445.0   34507.0   \n",
       "...                                                 ...        ...       ...   \n",
       "7400  sinkhole|how do sinkholes form|sinkhole in wat...   440393.0   14362.0   \n",
       "7401  Business Insider|Donald Trump|Hillary Clinton|...    55762.0    1265.0   \n",
       "7402  LP|Death Valley|Other People|Lost On You|The M...   142908.0    7088.0   \n",
       "7403  YouTube FanFest|#YTFF|Washington DC|USA|YTFF|#...    24532.0    2148.0   \n",
       "7404  LIGO|Virgo|collaboration|space|science|nationa...   144039.0    1574.0   \n",
       "\n",
       "      dislikes  comment_total                                  thumbnail_link  \\\n",
       "0       5931.0   46245.000000  https://i.ytimg.com/vi/XpVt6Z1Gjjo/default.jpg   \n",
       "1      26679.0    4799.096002  https://i.ytimg.com/vi/K4wEI5zhHB0/default.jpg   \n",
       "2       4542.0   12829.000000  https://i.ytimg.com/vi/WYYvHb03Eog/default.jpg   \n",
       "3        568.0    6666.000000  https://i.ytimg.com/vi/sjlHnJvXdQs/default.jpg   \n",
       "4        544.0    3040.000000  https://i.ytimg.com/vi/cMKX2tE5Luk/default.jpg   \n",
       "...        ...            ...                                             ...   \n",
       "7400     390.0    1575.000000  https://i.ytimg.com/vi/xlu6i6lT_vk/default.jpg   \n",
       "7401     760.0    1873.000000  https://i.ytimg.com/vi/qRoVlH1OcI4/default.jpg   \n",
       "7402      68.0     437.000000  https://i.ytimg.com/vi/EoejGgUNmVU/default.jpg   \n",
       "7403      77.0    4799.096002  https://i.ytimg.com/vi/MT1CMTI0EVw/default.jpg   \n",
       "7404      59.0    4799.096002  https://i.ytimg.com/vi/AFxLA3RGjnc/default.jpg   \n",
       "\n",
       "       date  \n",
       "0     13.09  \n",
       "1     13.09  \n",
       "2     13.09  \n",
       "3     13.09  \n",
       "4     13.09  \n",
       "...     ...  \n",
       "7400   22.1  \n",
       "7401   22.1  \n",
       "7402   22.1  \n",
       "7403   22.1  \n",
       "7404   22.1  \n",
       "\n",
       "[7405 rows x 11 columns]"
      ]
     },
     "execution_count": 3,
     "metadata": {},
     "output_type": "execute_result"
    }
   ],
   "source": [
    "data.dropna(subset = ['video_id', 'tags'],inplace=True)\n",
    "data['views'].fillna((data['views'].mean()), inplace =True)\n",
    "data['likes'].fillna((data['likes'].mean()), inplace =True)\n",
    "data['dislikes'].fillna((data['dislikes'].mean()), inplace =True)\n",
    "data['comment_total'].fillna((data['comment_total'].mean()), inplace =True)\n",
    "data.reset_index(drop=True)"
   ]
  },
  {
   "cell_type": "code",
   "execution_count": 4,
   "metadata": {},
   "outputs": [
    {
     "data": {
      "text/plain": [
       "video_id          0\n",
       "title             0\n",
       "channel_title     0\n",
       "category_id       0\n",
       "tags              0\n",
       "views             0\n",
       "likes             0\n",
       "dislikes          0\n",
       "comment_total     0\n",
       "thumbnail_link    0\n",
       "date              0\n",
       "dtype: int64"
      ]
     },
     "execution_count": 4,
     "metadata": {},
     "output_type": "execute_result"
    }
   ],
   "source": [
    "data.isna().sum()"
   ]
  },
  {
   "cell_type": "code",
   "execution_count": 5,
   "metadata": {},
   "outputs": [
    {
     "name": "stdout",
     "output_type": "stream",
     "text": [
      "['13.09' '14.09' '15.09' '16.09' '17.09' '18.09' '19.09' '20.09' '21.09'\n",
      " '22.09' '23.09' '24.09' '24.09xcaeyJTx4Co' '25.09' '26.09'\n",
      " '26.0903jeumSTSzc' '27.09' '28.09' '29.09' '30.09' '1.1' '2.1' '3.1'\n",
      " '4.1' '5.1' '6.1' '7.1' '8.1' '9.1' '100' '10.1' '11.1' '12.1' '13.1'\n",
      " '14.1' '15.1' '16.1' '17.1' '18.1' '19.1' '20.1' '21.1' '22.1']\n"
     ]
    }
   ],
   "source": [
    "print (data['date'].unique())"
   ]
  },
  {
   "cell_type": "code",
   "execution_count": 6,
   "metadata": {},
   "outputs": [
    {
     "name": "stdout",
     "output_type": "stream",
     "text": [
      "['13.09' '14.09' '15.09' '16.09' '17.09' '18.09' '19.09' '20.09' '21.09'\n",
      " '22.09' '23.09' '24.09' '25.09' '26.09' '27.09' '28.09' '29.09' '30.09'\n",
      " '1.1' '2.1' '3.1' '4.1' '5.1' '6.1' '7.1' '8.1' '9.1' '09.10' '10.1'\n",
      " '11.1' '12.1' '13.1' '14.1' '15.1' '16.1' '17.1' '18.1' '19.1' '20.1'\n",
      " '21.1' '22.1']\n"
     ]
    }
   ],
   "source": [
    "data.loc[data['date'] == '24.09xcaeyJTx4Co', 'date'] = '24.09'\n",
    "data.loc[data['date'] == '26.0903jeumSTSzc', 'date'] = '26.09'\n",
    "data.loc[data['date'] == '100', 'date'] = '09.10'\n",
    "print (data['date'].unique())"
   ]
  },
  {
   "cell_type": "code",
   "execution_count": 20,
   "metadata": {},
   "outputs": [
    {
     "data": {
      "text/plain": [
       "Text(0.5, 1.0, 'VIEWS OF THE DAY')"
      ]
     },
     "execution_count": 20,
     "metadata": {},
     "output_type": "execute_result"
    },
    {
     "data": {
      "image/png": "[encoded data removed]",
      "text/plain": [
       "<Figure size 432x288 with 1 Axes>"
      ]
     },
     "metadata": {
      "needs_background": "light"
     },
     "output_type": "display_data"
    }
   ],
   "source": [
    "plt.hist(df_normalized.views)\n",
    "plt.xlabel(\"VIEWS\")\n",
    "plt.ylabel(\"NUMBER OF\")\n",
    "plt.title(\"VIEWS OF THE DAY\")"
   ]
  },
  {
   "cell_type": "code",
   "execution_count": 12,
   "metadata": {},
   "outputs": [
    {
     "data": {
      "text/plain": [
       "<matplotlib.collections.PathCollection at 0x1932b6fe788>"
      ]
     },
     "execution_count": 12,
     "metadata": {},
     "output_type": "execute_result"
    },
    {
     "data": {
      "image/png": "[encoded data removed]",
      "text/plain": [
       "<Figure size 432x288 with 1 Axes>"
      ]
     },
     "metadata": {
      "needs_background": "light"
     },
     "output_type": "display_data"
    }
   ],
   "source": [
    "import matplotlib.pyplot as plt\n",
    "fig, ax = plt.subplots()\n",
    "ax.scatter(data['views'], data['likes'])"
   ]
  },
  {
   "cell_type": "code",
   "execution_count": 13,
   "metadata": {},
   "outputs": [
    {
     "data": {
      "text/plain": [
       "<matplotlib.collections.PathCollection at 0x1932bae8d08>"
      ]
     },
     "execution_count": 13,
     "metadata": {},
     "output_type": "execute_result"
    },
    {
     "data": {
      "image/png": "[encoded data removed]",
      "text/plain": [
       "<Figure size 432x288 with 1 Axes>"
      ]
     },
     "metadata": {
      "needs_background": "light"
     },
     "output_type": "display_data"
    }
   ],
   "source": [
    "fig, ax = plt.subplots()\n",
    "ax.scatter(data['views'], data['dislikes'])"
   ]
  },
  {
   "cell_type": "code",
   "execution_count": 15,
   "metadata": {},
   "outputs": [
    {
     "data": {
      "image/png": "[encoded data removed]",
      "text/plain": [
       "<Figure size 432x288 with 1 Axes>"
      ]
     },
     "metadata": {
      "needs_background": "light"
     },
     "output_type": "display_data"
    }
   ],
   "source": [
    "plt.boxplot(data['views'])\n",
    "plt.show()"
   ]
  },
  {
   "cell_type": "code",
   "execution_count": 16,
   "metadata": {},
   "outputs": [
    {
     "data": {
      "image/png": "[encoded data removed]",
      "text/plain": [
       "<Figure size 432x288 with 1 Axes>"
      ]
     },
     "metadata": {
      "needs_background": "light"
     },
     "output_type": "display_data"
    }
   ],
   "source": [
    "plt.boxplot(data['likes']) \n",
    "plt.show() "
   ]
  },
  {
   "cell_type": "code",
   "execution_count": 17,
   "metadata": {},
   "outputs": [
    {
     "data": {
      "image/png": "[encoded data removed]",
      "text/plain": [
       "<Figure size 432x288 with 1 Axes>"
      ]
     },
     "metadata": {
      "needs_background": "light"
     },
     "output_type": "display_data"
    }
   ],
   "source": [
    "plt.boxplot(data['dislikes']) \n",
    "plt.show()"
   ]
  },
  {
   "cell_type": "code",
   "execution_count": 7,
   "metadata": {},
   "outputs": [
    {
     "data": {
      "text/html": [
       "<div>\n",
       "<style scoped>\n",
       "    .dataframe tbody tr th:only-of-type {\n",
       "        vertical-align: middle;\n",
       "    }\n",
       "\n",
       "    .dataframe tbody tr th {\n",
       "        vertical-align: top;\n",
       "    }\n",
       "\n",
       "    .dataframe thead th {\n",
       "        text-align: right;\n",
       "    }\n",
       "</style>\n",
       "<table border=\"1\" class=\"dataframe\">\n",
       "  <thead>\n",
       "    <tr style=\"text-align: right;\">\n",
       "      <th></th>\n",
       "      <th>category_id</th>\n",
       "      <th>views</th>\n",
       "      <th>likes</th>\n",
       "      <th>dislikes</th>\n",
       "      <th>comment_total</th>\n",
       "    </tr>\n",
       "  </thead>\n",
       "  <tbody>\n",
       "    <tr>\n",
       "      <th>count</th>\n",
       "      <td>7405.000000</td>\n",
       "      <td>7.405000e+03</td>\n",
       "      <td>7.405000e+03</td>\n",
       "      <td>7405.000000</td>\n",
       "      <td>7405.000000</td>\n",
       "    </tr>\n",
       "    <tr>\n",
       "      <th>mean</th>\n",
       "      <td>20.235787</td>\n",
       "      <td>9.581975e+05</td>\n",
       "      <td>3.582370e+04</td>\n",
       "      <td>1839.502483</td>\n",
       "      <td>4799.096002</td>\n",
       "    </tr>\n",
       "    <tr>\n",
       "      <th>std</th>\n",
       "      <td>7.415673</td>\n",
       "      <td>2.181449e+06</td>\n",
       "      <td>9.218925e+04</td>\n",
       "      <td>11101.648045</td>\n",
       "      <td>20442.480993</td>\n",
       "    </tr>\n",
       "    <tr>\n",
       "      <th>min</th>\n",
       "      <td>1.000000</td>\n",
       "      <td>4.680000e+02</td>\n",
       "      <td>1.000000e+00</td>\n",
       "      <td>1.000000</td>\n",
       "      <td>1.000000</td>\n",
       "    </tr>\n",
       "    <tr>\n",
       "      <th>25%</th>\n",
       "      <td>17.000000</td>\n",
       "      <td>1.041300e+05</td>\n",
       "      <td>2.411000e+03</td>\n",
       "      <td>83.000000</td>\n",
       "      <td>374.000000</td>\n",
       "    </tr>\n",
       "    <tr>\n",
       "      <th>50%</th>\n",
       "      <td>24.000000</td>\n",
       "      <td>3.230770e+05</td>\n",
       "      <td>9.650000e+03</td>\n",
       "      <td>324.000000</td>\n",
       "      <td>1284.000000</td>\n",
       "    </tr>\n",
       "    <tr>\n",
       "      <th>75%</th>\n",
       "      <td>25.000000</td>\n",
       "      <td>9.862850e+05</td>\n",
       "      <td>3.321400e+04</td>\n",
       "      <td>1155.000000</td>\n",
       "      <td>4069.000000</td>\n",
       "    </tr>\n",
       "    <tr>\n",
       "      <th>max</th>\n",
       "      <td>43.000000</td>\n",
       "      <td>4.150067e+07</td>\n",
       "      <td>2.010366e+06</td>\n",
       "      <td>318404.000000</td>\n",
       "      <td>736179.000000</td>\n",
       "    </tr>\n",
       "  </tbody>\n",
       "</table>\n",
       "</div>"
      ],
      "text/plain": [
       "       category_id         views         likes       dislikes  comment_total\n",
       "count  7405.000000  7.405000e+03  7.405000e+03    7405.000000    7405.000000\n",
       "mean     20.235787  9.581975e+05  3.582370e+04    1839.502483    4799.096002\n",
       "std       7.415673  2.181449e+06  9.218925e+04   11101.648045   20442.480993\n",
       "min       1.000000  4.680000e+02  1.000000e+00       1.000000       1.000000\n",
       "25%      17.000000  1.041300e+05  2.411000e+03      83.000000     374.000000\n",
       "50%      24.000000  3.230770e+05  9.650000e+03     324.000000    1284.000000\n",
       "75%      25.000000  9.862850e+05  3.321400e+04    1155.000000    4069.000000\n",
       "max      43.000000  4.150067e+07  2.010366e+06  318404.000000  736179.000000"
      ]
     },
     "execution_count": 7,
     "metadata": {},
     "output_type": "execute_result"
    }
   ],
   "source": [
    "data.describe()"
   ]
  },
  {
   "cell_type": "code",
   "execution_count": 19,
   "metadata": {},
   "outputs": [
    {
     "data": {
      "text/html": [
       "<div>\n",
       "<style scoped>\n",
       "    .dataframe tbody tr th:only-of-type {\n",
       "        vertical-align: middle;\n",
       "    }\n",
       "\n",
       "    .dataframe tbody tr th {\n",
       "        vertical-align: top;\n",
       "    }\n",
       "\n",
       "    .dataframe thead th {\n",
       "        text-align: right;\n",
       "    }\n",
       "</style>\n",
       "<table border=\"1\" class=\"dataframe\">\n",
       "  <thead>\n",
       "    <tr style=\"text-align: right;\">\n",
       "      <th></th>\n",
       "      <th>views</th>\n",
       "      <th>dislikes</th>\n",
       "      <th>likes</th>\n",
       "      <th>comment_total</th>\n",
       "    </tr>\n",
       "  </thead>\n",
       "  <tbody>\n",
       "    <tr>\n",
       "      <th>0</th>\n",
       "      <td>1.575129</td>\n",
       "      <td>0.368574</td>\n",
       "      <td>3.083315</td>\n",
       "      <td>2.027577</td>\n",
       "    </tr>\n",
       "    <tr>\n",
       "      <th>1</th>\n",
       "      <td>3.164130</td>\n",
       "      <td>2.237611</td>\n",
       "      <td>1.627515</td>\n",
       "      <td>0.000000</td>\n",
       "    </tr>\n",
       "    <tr>\n",
       "      <th>2</th>\n",
       "      <td>0.771973</td>\n",
       "      <td>0.243449</td>\n",
       "      <td>-0.117687</td>\n",
       "      <td>0.392831</td>\n",
       "    </tr>\n",
       "    <tr>\n",
       "      <th>3</th>\n",
       "      <td>0.096242</td>\n",
       "      <td>-0.114541</td>\n",
       "      <td>0.660016</td>\n",
       "      <td>0.091331</td>\n",
       "    </tr>\n",
       "    <tr>\n",
       "      <th>4</th>\n",
       "      <td>0.161943</td>\n",
       "      <td>-0.116702</td>\n",
       "      <td>-0.014284</td>\n",
       "      <td>-0.086057</td>\n",
       "    </tr>\n",
       "    <tr>\n",
       "      <th>...</th>\n",
       "      <td>...</td>\n",
       "      <td>...</td>\n",
       "      <td>...</td>\n",
       "      <td>...</td>\n",
       "    </tr>\n",
       "    <tr>\n",
       "      <th>7400</th>\n",
       "      <td>-0.237383</td>\n",
       "      <td>-0.130575</td>\n",
       "      <td>-0.232816</td>\n",
       "      <td>-0.157726</td>\n",
       "    </tr>\n",
       "    <tr>\n",
       "      <th>7401</th>\n",
       "      <td>-0.413714</td>\n",
       "      <td>-0.097245</td>\n",
       "      <td>-0.374892</td>\n",
       "      <td>-0.143148</td>\n",
       "    </tr>\n",
       "    <tr>\n",
       "      <th>7402</th>\n",
       "      <td>-0.373763</td>\n",
       "      <td>-0.159582</td>\n",
       "      <td>-0.311724</td>\n",
       "      <td>-0.213398</td>\n",
       "    </tr>\n",
       "    <tr>\n",
       "      <th>7403</th>\n",
       "      <td>-0.428031</td>\n",
       "      <td>-0.158771</td>\n",
       "      <td>-0.365313</td>\n",
       "      <td>0.000000</td>\n",
       "    </tr>\n",
       "    <tr>\n",
       "      <th>7404</th>\n",
       "      <td>-0.373244</td>\n",
       "      <td>-0.160393</td>\n",
       "      <td>-0.371540</td>\n",
       "      <td>0.000000</td>\n",
       "    </tr>\n",
       "  </tbody>\n",
       "</table>\n",
       "<p>7405 rows × 4 columns</p>\n",
       "</div>"
      ],
      "text/plain": [
       "         views  dislikes     likes  comment_total\n",
       "0     1.575129  0.368574  3.083315       2.027577\n",
       "1     3.164130  2.237611  1.627515       0.000000\n",
       "2     0.771973  0.243449 -0.117687       0.392831\n",
       "3     0.096242 -0.114541  0.660016       0.091331\n",
       "4     0.161943 -0.116702 -0.014284      -0.086057\n",
       "...        ...       ...       ...            ...\n",
       "7400 -0.237383 -0.130575 -0.232816      -0.157726\n",
       "7401 -0.413714 -0.097245 -0.374892      -0.143148\n",
       "7402 -0.373763 -0.159582 -0.311724      -0.213398\n",
       "7403 -0.428031 -0.158771 -0.365313       0.000000\n",
       "7404 -0.373244 -0.160393 -0.371540       0.000000\n",
       "\n",
       "[7405 rows x 4 columns]"
      ]
     },
     "execution_count": 19,
     "metadata": {},
     "output_type": "execute_result"
    }
   ],
   "source": [
    "x=data[['views','dislikes','likes','comment_total']].values.astype(float)\n",
    "min_max_scaler=preprocessing.StandardScaler()\n",
    "x_scaled=min_max_scaler.fit_transform(x)\n",
    "df_normalized=pd.DataFrame(x_scaled)\n",
    "df_normalized.columns=['views','dislikes','likes','comment_total']\n",
    "\n",
    "df_normalized=df_normalized[['views','dislikes','likes','comment_total']]\n",
    "df_normalized"
   ]
  },
  {
   "cell_type": "code",
   "execution_count": 21,
   "metadata": {},
   "outputs": [
    {
     "data": {
      "text/plain": [
       "views            1.000135\n",
       "dislikes         1.000135\n",
       "likes            1.000135\n",
       "comment_total    1.000135\n",
       "dtype: float64"
      ]
     },
     "execution_count": 21,
     "metadata": {},
     "output_type": "execute_result"
    }
   ],
   "source": [
    "df_normalized.var()"
   ]
  },
  {
   "cell_type": "code",
   "execution_count": 22,
   "metadata": {},
   "outputs": [
    {
     "data": {
      "text/plain": [
       "views           -7.348762e-17\n",
       "dislikes         2.021416e-17\n",
       "likes           -7.171096e-17\n",
       "comment_total   -1.229042e-17\n",
       "dtype: float64"
      ]
     },
     "execution_count": 22,
     "metadata": {},
     "output_type": "execute_result"
    }
   ],
   "source": [
    "df_normalized.mean()"
   ]
  },
  {
   "cell_type": "code",
   "execution_count": 9,
   "metadata": {},
   "outputs": [
    {
     "data": {
      "text/html": [
       "<div>\n",
       "<style scoped>\n",
       "    .dataframe tbody tr th:only-of-type {\n",
       "        vertical-align: middle;\n",
       "    }\n",
       "\n",
       "    .dataframe tbody tr th {\n",
       "        vertical-align: top;\n",
       "    }\n",
       "\n",
       "    .dataframe thead th {\n",
       "        text-align: right;\n",
       "    }\n",
       "</style>\n",
       "<table border=\"1\" class=\"dataframe\">\n",
       "  <thead>\n",
       "    <tr style=\"text-align: right;\">\n",
       "      <th></th>\n",
       "      <th>category_id</th>\n",
       "      <th>views</th>\n",
       "      <th>likes</th>\n",
       "      <th>dislikes</th>\n",
       "      <th>comment_total</th>\n",
       "    </tr>\n",
       "  </thead>\n",
       "  <tbody>\n",
       "    <tr>\n",
       "      <th>category_id</th>\n",
       "      <td>1.000000</td>\n",
       "      <td>-0.042596</td>\n",
       "      <td>-0.064994</td>\n",
       "      <td>-0.001498</td>\n",
       "      <td>-0.022739</td>\n",
       "    </tr>\n",
       "    <tr>\n",
       "      <th>views</th>\n",
       "      <td>-0.042596</td>\n",
       "      <td>1.000000</td>\n",
       "      <td>0.835982</td>\n",
       "      <td>0.539470</td>\n",
       "      <td>0.721277</td>\n",
       "    </tr>\n",
       "    <tr>\n",
       "      <th>likes</th>\n",
       "      <td>-0.064994</td>\n",
       "      <td>0.835982</td>\n",
       "      <td>1.000000</td>\n",
       "      <td>0.483834</td>\n",
       "      <td>0.829863</td>\n",
       "    </tr>\n",
       "    <tr>\n",
       "      <th>dislikes</th>\n",
       "      <td>-0.001498</td>\n",
       "      <td>0.539470</td>\n",
       "      <td>0.483834</td>\n",
       "      <td>1.000000</td>\n",
       "      <td>0.533910</td>\n",
       "    </tr>\n",
       "    <tr>\n",
       "      <th>comment_total</th>\n",
       "      <td>-0.022739</td>\n",
       "      <td>0.721277</td>\n",
       "      <td>0.829863</td>\n",
       "      <td>0.533910</td>\n",
       "      <td>1.000000</td>\n",
       "    </tr>\n",
       "  </tbody>\n",
       "</table>\n",
       "</div>"
      ],
      "text/plain": [
       "               category_id     views     likes  dislikes  comment_total\n",
       "category_id       1.000000 -0.042596 -0.064994 -0.001498      -0.022739\n",
       "views            -0.042596  1.000000  0.835982  0.539470       0.721277\n",
       "likes            -0.064994  0.835982  1.000000  0.483834       0.829863\n",
       "dislikes         -0.001498  0.539470  0.483834  1.000000       0.533910\n",
       "comment_total    -0.022739  0.721277  0.829863  0.533910       1.000000"
      ]
     },
     "execution_count": 9,
     "metadata": {},
     "output_type": "execute_result"
    }
   ],
   "source": [
    "data.corr(method=\"pearson\")"
   ]
  },
  {
   "cell_type": "code",
   "execution_count": 10,
   "metadata": {},
   "outputs": [
    {
     "data": {
      "text/html": [
       "<div>\n",
       "<style scoped>\n",
       "    .dataframe tbody tr th:only-of-type {\n",
       "        vertical-align: middle;\n",
       "    }\n",
       "\n",
       "    .dataframe tbody tr th {\n",
       "        vertical-align: top;\n",
       "    }\n",
       "\n",
       "    .dataframe thead th {\n",
       "        text-align: right;\n",
       "    }\n",
       "</style>\n",
       "<table border=\"1\" class=\"dataframe\">\n",
       "  <thead>\n",
       "    <tr style=\"text-align: right;\">\n",
       "      <th></th>\n",
       "      <th>category_id</th>\n",
       "      <th>views</th>\n",
       "      <th>likes</th>\n",
       "      <th>dislikes</th>\n",
       "      <th>comment_total</th>\n",
       "    </tr>\n",
       "  </thead>\n",
       "  <tbody>\n",
       "    <tr>\n",
       "      <th>category_id</th>\n",
       "      <td>1.000000</td>\n",
       "      <td>-0.013766</td>\n",
       "      <td>-0.045197</td>\n",
       "      <td>0.034060</td>\n",
       "      <td>0.054933</td>\n",
       "    </tr>\n",
       "    <tr>\n",
       "      <th>views</th>\n",
       "      <td>-0.013766</td>\n",
       "      <td>1.000000</td>\n",
       "      <td>0.847372</td>\n",
       "      <td>0.809031</td>\n",
       "      <td>0.813885</td>\n",
       "    </tr>\n",
       "    <tr>\n",
       "      <th>likes</th>\n",
       "      <td>-0.045197</td>\n",
       "      <td>0.847372</td>\n",
       "      <td>1.000000</td>\n",
       "      <td>0.717850</td>\n",
       "      <td>0.842636</td>\n",
       "    </tr>\n",
       "    <tr>\n",
       "      <th>dislikes</th>\n",
       "      <td>0.034060</td>\n",
       "      <td>0.809031</td>\n",
       "      <td>0.717850</td>\n",
       "      <td>1.000000</td>\n",
       "      <td>0.787696</td>\n",
       "    </tr>\n",
       "    <tr>\n",
       "      <th>comment_total</th>\n",
       "      <td>0.054933</td>\n",
       "      <td>0.813885</td>\n",
       "      <td>0.842636</td>\n",
       "      <td>0.787696</td>\n",
       "      <td>1.000000</td>\n",
       "    </tr>\n",
       "  </tbody>\n",
       "</table>\n",
       "</div>"
      ],
      "text/plain": [
       "               category_id     views     likes  dislikes  comment_total\n",
       "category_id       1.000000 -0.013766 -0.045197  0.034060       0.054933\n",
       "views            -0.013766  1.000000  0.847372  0.809031       0.813885\n",
       "likes            -0.045197  0.847372  1.000000  0.717850       0.842636\n",
       "dislikes          0.034060  0.809031  0.717850  1.000000       0.787696\n",
       "comment_total     0.054933  0.813885  0.842636  0.787696       1.000000"
      ]
     },
     "execution_count": 10,
     "metadata": {},
     "output_type": "execute_result"
    }
   ],
   "source": [
    "data.corr(method=\"spearman\")"
   ]
  },
  {
   "cell_type": "code",
   "execution_count": 8,
   "metadata": {},
   "outputs": [
    {
     "data": {
      "text/html": [
       "<div>\n",
       "<style scoped>\n",
       "    .dataframe tbody tr th:only-of-type {\n",
       "        vertical-align: middle;\n",
       "    }\n",
       "\n",
       "    .dataframe tbody tr th {\n",
       "        vertical-align: top;\n",
       "    }\n",
       "\n",
       "    .dataframe thead th {\n",
       "        text-align: right;\n",
       "    }\n",
       "</style>\n",
       "<table border=\"1\" class=\"dataframe\">\n",
       "  <thead>\n",
       "    <tr style=\"text-align: right;\">\n",
       "      <th></th>\n",
       "      <th>category_id</th>\n",
       "      <th>views</th>\n",
       "      <th>likes</th>\n",
       "      <th>dislikes</th>\n",
       "      <th>comment_total</th>\n",
       "    </tr>\n",
       "  </thead>\n",
       "  <tbody>\n",
       "    <tr>\n",
       "      <th>category_id</th>\n",
       "      <td>1.000000</td>\n",
       "      <td>-0.010249</td>\n",
       "      <td>-0.030348</td>\n",
       "      <td>0.023022</td>\n",
       "      <td>0.038354</td>\n",
       "    </tr>\n",
       "    <tr>\n",
       "      <th>views</th>\n",
       "      <td>-0.010249</td>\n",
       "      <td>1.000000</td>\n",
       "      <td>0.671725</td>\n",
       "      <td>0.649545</td>\n",
       "      <td>0.635921</td>\n",
       "    </tr>\n",
       "    <tr>\n",
       "      <th>likes</th>\n",
       "      <td>-0.030348</td>\n",
       "      <td>0.671725</td>\n",
       "      <td>1.000000</td>\n",
       "      <td>0.550234</td>\n",
       "      <td>0.686213</td>\n",
       "    </tr>\n",
       "    <tr>\n",
       "      <th>dislikes</th>\n",
       "      <td>0.023022</td>\n",
       "      <td>0.649545</td>\n",
       "      <td>0.550234</td>\n",
       "      <td>1.000000</td>\n",
       "      <td>0.617942</td>\n",
       "    </tr>\n",
       "    <tr>\n",
       "      <th>comment_total</th>\n",
       "      <td>0.038354</td>\n",
       "      <td>0.635921</td>\n",
       "      <td>0.686213</td>\n",
       "      <td>0.617942</td>\n",
       "      <td>1.000000</td>\n",
       "    </tr>\n",
       "  </tbody>\n",
       "</table>\n",
       "</div>"
      ],
      "text/plain": [
       "               category_id     views     likes  dislikes  comment_total\n",
       "category_id       1.000000 -0.010249 -0.030348  0.023022       0.038354\n",
       "views            -0.010249  1.000000  0.671725  0.649545       0.635921\n",
       "likes            -0.030348  0.671725  1.000000  0.550234       0.686213\n",
       "dislikes          0.023022  0.649545  0.550234  1.000000       0.617942\n",
       "comment_total     0.038354  0.635921  0.686213  0.617942       1.000000"
      ]
     },
     "execution_count": 8,
     "metadata": {},
     "output_type": "execute_result"
    }
   ],
   "source": [
    "data.corr(method=\"kendall\")"
   ]
  },
  {
   "cell_type": "code",
   "execution_count": 18,
   "metadata": {},
   "outputs": [
    {
     "data": {
      "image/png": "[encoded data removed]",
      "text/plain": [
       "<Figure size 432x288 with 2 Axes>"
      ]
     },
     "metadata": {
      "needs_background": "light"
     },
     "output_type": "display_data"
    }
   ],
   "source": [
    "import seaborn as sns\n",
    "sns.heatmap(data.corr(method='pearson'),annot=True)\n",
    "plt.show()"
   ]
  },
  {
   "cell_type": "code",
   "execution_count": 11,
   "metadata": {},
   "outputs": [
    {
     "data": {
      "text/plain": [
       "0.19047319150584363"
      ]
     },
     "execution_count": 11,
     "metadata": {},
     "output_type": "execute_result"
    }
   ],
   "source": [
    "sum=0\n",
    "x=500\n",
    "\n",
    "df=data.dislikes\n",
    "sd=0\n",
    "n=4000\n",
    "for i in df:\n",
    "     sum+=i\n",
    "mean=sum/n\n",
    "\n",
    "for i in df:\n",
    "    sd=sd+(i-mean)**2\n",
    "sd=sd/n\n",
    "sd=sd**0.5\n",
    "\n",
    "z=(mean-x)/sd\n",
    "z"
   ]
  },
  {
   "cell_type": "code",
   "execution_count": null,
   "metadata": {},
   "outputs": [],
   "source": []
  }
 ],
 "metadata": {
  "kernelspec": {
   "display_name": "Python 3",
   "language": "python",
   "name": "python3"
  },
  "language_info": {
   "codemirror_mode": {
    "name": "ipython",
    "version": 3
   },
   "file_extension": ".py",
   "mimetype": "text/x-python",
   "name": "python",
   "nbconvert_exporter": "python",
   "pygments_lexer": "ipython3",
   "version": "3.6.13"
  }
 },
 "nbformat": 4,
 "nbformat_minor": 4
}
